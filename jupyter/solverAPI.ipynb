{
 "cells": [
  {
   "cell_type": "markdown",
   "metadata": {
    "collapsed": true
   },
   "source": [
    "### Solver API scratchbook"
   ]
  },
  {
   "cell_type": "code",
   "execution_count": 1,
   "metadata": {},
   "outputs": [
    {
     "ename": "ModuleNotFoundError",
     "evalue": "No module named 'quadrature'",
     "output_type": "error",
     "traceback": [
      "\u001b[0;31m---------------------------------------------------------------------------\u001b[0m",
      "\u001b[0;31mModuleNotFoundError\u001b[0m                       Traceback (most recent call last)",
      "\u001b[0;32m/tmp/ipykernel_15359/3459490743.py\u001b[0m in \u001b[0;36m<module>\u001b[0;34m\u001b[0m\n\u001b[1;32m      5\u001b[0m \u001b[0;32mfrom\u001b[0m \u001b[0mnuMSM_solver\u001b[0m\u001b[0;34m.\u001b[0m\u001b[0msolvers\u001b[0m \u001b[0;32mimport\u001b[0m \u001b[0;34m*\u001b[0m\u001b[0;34m\u001b[0m\u001b[0;34m\u001b[0m\u001b[0m\n\u001b[1;32m      6\u001b[0m \u001b[0;32mimport\u001b[0m \u001b[0mtime\u001b[0m\u001b[0;34m\u001b[0m\u001b[0;34m\u001b[0m\u001b[0m\n\u001b[0;32m----> 7\u001b[0;31m \u001b[0;32mfrom\u001b[0m \u001b[0mquadrature\u001b[0m \u001b[0;32mimport\u001b[0m \u001b[0mGaussianQuadrature\u001b[0m\u001b[0;34m\u001b[0m\u001b[0;34m\u001b[0m\u001b[0m\n\u001b[0m",
      "\u001b[0;31mModuleNotFoundError\u001b[0m: No module named 'quadrature'"
     ]
    }
   ],
   "source": [
    "%matplotlib widget\n",
    "import ipywidgets as widgets\n",
    "import matplotlib.pyplot as plt\n",
    "\n",
    "from nuMSM_solver.solvers import *\n",
    "import time\n",
    "from nuMSM_solver.quadrature import GaussianQuadrature"
   ]
  },
  {
   "cell_type": "code",
   "execution_count": null,
   "metadata": {},
   "outputs": [],
   "source": [
    "# Optimal phases\n",
    "delta_opt = np.pi\n",
    "eta_opt = (3.0*np.pi)/2.0\n",
    "rew_opt = np.pi/4.0\n",
    "\n",
    "# Model params\n",
    "mp = ModelParams(M=1.0, dM=1e-11, Imw=3, Rew=rew_opt, delta=delta_opt, eta=eta_opt)"
   ]
  },
  {
   "cell_type": "code",
   "execution_count": null,
   "metadata": {},
   "outputs": [],
   "source": [
    "# Set up quadrature scheme\n",
    "n_kc = 5\n",
    "kc_max = 10\n",
    "\n",
    "#TODO factor out rates from quadrature class, no idea why I did it like that\n",
    "\n",
    "# Hide annoying warning\n",
    "import warnings\n",
    "\n",
    "with warnings.catch_warnings():\n",
    "    warnings.simplefilter(\"ignore\")\n",
    "    quadrature = GaussianQuadrature(n_kc, 0, kc_max, mp, H=1, tot=True, qscheme=\"legendre\")"
   ]
  },
  {
   "cell_type": "code",
   "execution_count": null,
   "metadata": {},
   "outputs": [],
   "source": [
    "# Solve equations with QuadratureSolver\n",
    "solver = QuadratureSolver(quadrature,\n",
    "                         model_params=mp, TF=Tsph, H=1, fixed_cutoff=1e-5, eig_cutoff=False,\n",
    "                         method=\"Radau\", ode_pars={'atol': 1e-20, 'rtol': 1e-4}, source_term=True)\n",
    "\n",
    "start = time.time()\n",
    "solver.solve()\n",
    "end = time.time()\n",
    "bau = (28./79.) * solver.get_final_lepton_asymmetry()\n",
    "print(\"Time (solve): {}, BAU = {}\".format(end - start, bau))"
   ]
  },
  {
   "cell_type": "code",
   "execution_count": null,
   "metadata": {},
   "outputs": [],
   "source": [
    "# Plot BAU generation\n",
    "fig = plt.figure(dpi=60)\n",
    "ax = fig.add_subplot(111)\n",
    "plt.xlabel(\"T\")\n",
    "plt.ylabel(\"bau\")\n",
    "plt.xscale(\"log\")\n",
    "plt.yscale(\"log\")\n",
    "plt.plot(solver.get_Tlist(), (28./79.) * np.abs(np.array(solver.get_total_lepton_asymmetry())))"
   ]
  },
  {
   "cell_type": "code",
   "execution_count": null,
   "metadata": {},
   "outputs": [],
   "source": []
  }
 ],
 "metadata": {
  "kernelspec": {
   "display_name": "Python 3 (ipykernel)",
   "language": "python",
   "name": "python3"
  },
  "language_info": {
   "codemirror_mode": {
    "name": "ipython",
    "version": 3
   },
   "file_extension": ".py",
   "mimetype": "text/x-python",
   "name": "python",
   "nbconvert_exporter": "python",
   "pygments_lexer": "ipython3",
   "version": "3.9.7"
  }
 },
 "nbformat": 4,
 "nbformat_minor": 1
}
