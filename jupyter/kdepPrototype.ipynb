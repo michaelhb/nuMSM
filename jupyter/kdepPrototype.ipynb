{
 "cells": [
  {
   "cell_type": "code",
   "execution_count": 1,
   "metadata": {},
   "outputs": [],
   "source": [
    "import numpy as np\n",
    "import matplotlib.pyplot as plt\n",
    "from leptotools import momentumDep as mdp\n",
    "\n",
    "from leptotools.SMconstants import Tsph\n",
    "from scipy.integrate import odeint"
   ]
  },
  {
   "cell_type": "markdown",
   "metadata": {
    "pycharm": {
     "name": "#%% md\n"
    }
   },
   "source": [
    "### List of momentum modes"
   ]
  },
  {
   "cell_type": "code",
   "execution_count": 2,
   "metadata": {
    "pycharm": {
     "name": "#%%\n"
    }
   },
   "outputs": [
    {
     "name": "stdout",
     "output_type": "stream",
     "text": [
      "[0.8 1.6 2.4 3.2 4.  4.8 5.6 6.4 7.2 8. ]\n",
      "array([3.08441116e-01, 4.01119929e-01, 2.18068288e-01, 6.20874561e-02,\n",
      "       9.50151698e-03, 7.53008389e-04, 2.82592335e-05, 4.24931398e-07,\n",
      "       1.83956482e-09, 9.91182722e-13])\n"
     ]
    }
   ],
   "source": [
    "Nmodes=10\n",
    "klist=np.linspace(0,8,Nmodes+1)[1:]   # Skip the first mode - it is singular\n",
    "wlist=np.ones(len(klist))*(klist[1]-klist[0])\n",
    "\n",
    "kquad, wquad=np.polynomial.laguerre.laggauss(Nmodes)\n",
    "#klist=kquad\n",
    "wlist=wquad\n",
    "print(klist)\n",
    "print(repr(wlist))\n",
    "\n",
    "# wlist = np.array([0.4, 0.8, 0.8, 0.8, 0.8, 0.8, 0.8, 0.8, 0.8, 0.4])"
   ]
  },
  {
   "cell_type": "markdown",
   "metadata": {
    "pycharm": {
     "name": "#%% md\n"
    }
   },
   "source": [
    "# Set HNL masses"
   ]
  },
  {
   "cell_type": "code",
   "execution_count": 3,
   "metadata": {
    "pycharm": {
     "name": "#%%\n"
    }
   },
   "outputs": [],
   "source": [
    "MHNL=1 #GeV"
   ]
  },
  {
   "cell_type": "markdown",
   "metadata": {
    "pycharm": {
     "name": "#%% md\n"
    }
   },
   "source": [
    "### JIT accelerated rates"
   ]
  },
  {
   "cell_type": "code",
   "execution_count": 4,
   "metadata": {
    "pycharm": {
     "name": "#%%\n"
    }
   },
   "outputs": [
    {
     "name": "stderr",
     "output_type": "stream",
     "text": [
      "/home/admin/SciCodes/leptogenesis-tools/leptotools/momentumDep.py:46: RuntimeWarning: divide by zero encountered in log\n",
      "  lgM=np.log(gammaMFromQm(M, kT_ax, T_ax, Qm_F)/T_ax)[argK]\n"
     ]
    }
   ],
   "source": [
    "(gP, gM) = mdp.interpFast(MHNL, klist)"
   ]
  },
  {
   "cell_type": "code",
   "execution_count": 5,
   "metadata": {
    "pycharm": {
     "name": "#%%\n"
    }
   },
   "outputs": [
    {
     "name": "stdout",
     "output_type": "stream",
     "text": [
      "The slowest run took 6.91 times longer than the fastest. This could mean that an intermediate result is being cached.\n",
      "8.06 µs ± 8.55 µs per loop (mean ± std. dev. of 7 runs, 1 loop each)\n"
     ]
    }
   ],
   "source": [
    "%timeit gP(-3)"
   ]
  },
  {
   "cell_type": "markdown",
   "metadata": {
    "pycharm": {
     "name": "#%% md\n"
    }
   },
   "source": [
    "thermal masses function:"
   ]
  },
  {
   "cell_type": "code",
   "execution_count": 6,
   "metadata": {
    "pycharm": {
     "name": "#%%\n"
    }
   },
   "outputs": [],
   "source": [
    "(hp,hm) = mdp.interpHFast(MHNL,klist)"
   ]
  },
  {
   "cell_type": "code",
   "execution_count": 7,
   "metadata": {
    "pycharm": {
     "name": "#%%\n"
    }
   },
   "outputs": [
    {
     "name": "stdout",
     "output_type": "stream",
     "text": [
      "3.66 µs ± 47.3 ns per loop (mean ± std. dev. of 7 runs, 100000 loops each)\n"
     ]
    }
   ],
   "source": [
    "%timeit hp(-3)"
   ]
  },
  {
   "cell_type": "markdown",
   "metadata": {
    "pycharm": {
     "name": "#%% md\n"
    }
   },
   "source": [
    "### Equation setup"
   ]
  },
  {
   "cell_type": "code",
   "execution_count": 8,
   "metadata": {
    "pycharm": {
     "name": "#%%\n"
    }
   },
   "outputs": [
    {
     "name": "stdout",
     "output_type": "stream",
     "text": [
      "2\n"
     ]
    }
   ],
   "source": [
    "from leptotools.lepto import M2UpsGen, heven, hodd\n",
    "from leptotools.scantools import leptogenesisScanSetup\n",
    "ls = leptogenesisScanSetup(2)\n",
    "\n",
    "ls.set_ordering('NO')\n",
    "#ls.set_dM(3e-10)\n",
    "ls.set_dM(1e-9)\n",
    "ls.set_romega(np.pi/4.0)\n",
    "ls.set_iomega(4.0)\n",
    "ls.set_delta(np.pi)\n",
    "ls.set_eta((3.0*np.pi)/2.0)\n",
    "ls.set_xi(1)\n",
    "ls.set_CI()\n",
    "\n",
    "print(ls.Mb)"
   ]
  },
  {
   "cell_type": "code",
   "execution_count": 9,
   "metadata": {
    "pycharm": {
     "name": "#%%\n"
    }
   },
   "outputs": [
    {
     "data": {
      "text/plain": [
       "array([1.00000000e+08, 9.72693362e+07, 9.46132376e+07, 9.20296681e+07,\n",
       "       8.95166472e+07, 8.70722485e+07, 8.46945981e+07, 8.23818733e+07,\n",
       "       8.01323013e+07, 7.79441575e+07, 7.58157646e+07, 7.37454909e+07,\n",
       "       7.17317494e+07, 6.97729965e+07, 6.78677305e+07, 6.60144909e+07,\n",
       "       6.42118571e+07, 6.24584471e+07, 6.07529169e+07, 5.90939590e+07,\n",
       "       5.74803016e+07, 5.59107078e+07, 5.43839743e+07, 5.28989308e+07,\n",
       "       5.14544388e+07, 5.00493910e+07, 4.86827104e+07, 4.73533492e+07,\n",
       "       4.60602884e+07, 4.48025368e+07, 4.35791301e+07, 4.23891306e+07,\n",
       "       4.12316259e+07, 4.01057288e+07, 3.90105762e+07, 3.79453285e+07,\n",
       "       3.69091691e+07, 3.59013038e+07, 3.49209598e+07, 3.39673858e+07,\n",
       "       3.30398507e+07, 3.21376434e+07, 3.12600724e+07, 3.04064649e+07,\n",
       "       2.95761666e+07, 2.87685409e+07, 2.79829688e+07, 2.72188479e+07,\n",
       "       2.64755927e+07, 2.57526333e+07, 2.50494154e+07, 2.43654001e+07,\n",
       "       2.37000629e+07, 2.30528939e+07, 2.24233968e+07, 2.18110892e+07,\n",
       "       2.12155017e+07, 2.06361777e+07, 2.00726730e+07, 1.95245558e+07,\n",
       "       1.89914058e+07, 1.84728144e+07, 1.79683839e+07, 1.74777277e+07,\n",
       "       1.70004698e+07, 1.65362441e+07, 1.60846948e+07, 1.56454759e+07,\n",
       "       1.52182505e+07, 1.48026913e+07, 1.43984795e+07, 1.40053055e+07,\n",
       "       1.36228676e+07, 1.32508729e+07, 1.28890361e+07, 1.25370799e+07,\n",
       "       1.21947344e+07, 1.18617372e+07, 1.15378330e+07, 1.12227736e+07,\n",
       "       1.09163173e+07, 1.06182294e+07, 1.03282813e+07, 1.00462506e+07,\n",
       "       9.77192128e+06, 9.50508296e+06, 9.24553110e+06, 8.99306672e+06,\n",
       "       8.74749630e+06, 8.50863158e+06, 8.27628946e+06, 8.05029181e+06,\n",
       "       7.83046540e+06, 7.61664172e+06, 7.40865683e+06, 7.20635132e+06,\n",
       "       7.00957009e+06, 6.81816229e+06, 6.63198120e+06, 6.45088409e+06,\n",
       "       6.27473213e+06, 6.10339029e+06, 5.93672722e+06, 5.77461515e+06,\n",
       "       5.61692982e+06, 5.46355035e+06, 5.31435916e+06, 5.16924187e+06,\n",
       "       5.02808725e+06, 4.89078709e+06, 4.75723614e+06, 4.62733201e+06,\n",
       "       4.50097513e+06, 4.37806863e+06, 4.25851829e+06, 4.14223247e+06,\n",
       "       4.02912203e+06, 3.91910025e+06, 3.81208280e+06, 3.70798763e+06,\n",
       "       3.60673495e+06, 3.50824714e+06, 3.41244871e+06, 3.31926620e+06,\n",
       "       3.22862820e+06, 3.14046522e+06, 3.05470967e+06, 2.97129582e+06,\n",
       "       2.89015972e+06, 2.81123917e+06, 2.73447368e+06, 2.65980440e+06,\n",
       "       2.58717408e+06, 2.51652705e+06, 2.44780916e+06, 2.38096772e+06,\n",
       "       2.31595149e+06, 2.25271064e+06, 2.19119669e+06, 2.13136247e+06,\n",
       "       2.07316213e+06, 2.01655104e+06, 1.96148581e+06, 1.90792422e+06,\n",
       "       1.85582523e+06, 1.80514888e+06, 1.75585633e+06, 1.70790980e+06,\n",
       "       1.66127252e+06, 1.61590875e+06, 1.57178372e+06, 1.52886359e+06,\n",
       "       1.48711546e+06, 1.44650734e+06, 1.40700809e+06, 1.36858742e+06,\n",
       "       1.33121590e+06, 1.29486487e+06, 1.25950646e+06, 1.22511358e+06,\n",
       "       1.19165984e+06, 1.15911962e+06, 1.12746796e+06, 1.09668060e+06,\n",
       "       1.06673394e+06, 1.03760502e+06, 1.00927151e+06, 9.81711702e+05,\n",
       "       9.54904456e+05, 9.28829225e+05, 9.03466021e+05, 8.78795401e+05,\n",
       "       8.54798453e+05, 8.31456781e+05, 8.08752491e+05, 7.86668179e+05,\n",
       "       7.65186915e+05, 7.44292233e+05, 7.23968114e+05, 7.04198979e+05,\n",
       "       6.84969672e+05, 6.66265452e+05, 6.48071983e+05, 6.30375315e+05,\n",
       "       6.13161884e+05, 5.96418495e+05, 5.80132310e+05, 5.64290847e+05,\n",
       "       5.48881961e+05, 5.33893840e+05, 5.19314994e+05, 5.05134247e+05,\n",
       "       4.91340729e+05, 4.77923865e+05, 4.64873371e+05, 4.52179242e+05,\n",
       "       4.39831747e+05, 4.27821420e+05, 4.16139055e+05, 4.04775697e+05,\n",
       "       3.93722633e+05, 3.82971391e+05, 3.72513730e+05, 3.62341632e+05,\n",
       "       3.52447300e+05, 3.42823149e+05, 3.33461802e+05, 3.24356081e+05,\n",
       "       3.15499006e+05, 3.06883789e+05, 2.98503825e+05, 2.90352688e+05,\n",
       "       2.82424133e+05, 2.74712079e+05, 2.67210616e+05, 2.59913992e+05,\n",
       "       2.52816614e+05, 2.45913043e+05, 2.39197984e+05, 2.32666291e+05,\n",
       "       2.26312957e+05, 2.20133111e+05, 2.14122015e+05, 2.08275063e+05,\n",
       "       2.02587771e+05, 1.97055780e+05, 1.91674849e+05, 1.86440853e+05,\n",
       "       1.81349780e+05, 1.76397728e+05, 1.71580899e+05, 1.66895601e+05,\n",
       "       1.62338243e+05, 1.57905331e+05, 1.53593468e+05, 1.49399346e+05,\n",
       "       1.45319752e+05, 1.41351558e+05, 1.37491723e+05, 1.33737286e+05,\n",
       "       1.30085370e+05, 1.26533176e+05, 1.23077980e+05, 1.19717134e+05,\n",
       "       1.16448062e+05, 1.13268257e+05, 1.10175281e+05, 1.07166765e+05,\n",
       "       1.04240401e+05, 1.01393946e+05, 9.86252179e+04, 9.59320948e+04,\n",
       "       9.33125118e+04, 9.07644607e+04, 8.82859884e+04, 8.58751948e+04,\n",
       "       8.35302320e+04, 8.12493021e+04, 7.90306568e+04, 7.68725952e+04,\n",
       "       7.47734631e+04, 7.27316511e+04, 7.07455942e+04, 6.88137699e+04,\n",
       "       6.69346971e+04, 6.51069356e+04, 6.33290840e+04, 6.15997796e+04,\n",
       "       5.99176967e+04, 5.82815458e+04, 5.66900727e+04, 5.51420574e+04,\n",
       "       5.36363132e+04, 5.21716858e+04, 5.07470524e+04, 4.93613210e+04,\n",
       "       4.80134292e+04, 4.67023439e+04, 4.54270599e+04, 4.41865996e+04,\n",
       "       4.29800121e+04, 4.18063724e+04, 4.06647809e+04, 3.95543624e+04,\n",
       "       3.84742658e+04, 3.74236629e+04, 3.64017485e+04, 3.54077391e+04,\n",
       "       3.44408728e+04, 3.35004083e+04, 3.25856248e+04, 3.16958209e+04,\n",
       "       3.08303146e+04, 2.99884423e+04, 2.91695588e+04, 2.83730362e+04,\n",
       "       2.75982639e+04, 2.68446481e+04, 2.61116110e+04, 2.53985907e+04,\n",
       "       2.47050406e+04, 2.40304289e+04, 2.33742387e+04, 2.27359668e+04,\n",
       "       2.21151240e+04, 2.15112343e+04, 2.09238348e+04, 2.03524752e+04,\n",
       "       1.97967175e+04, 1.92561357e+04, 1.87303154e+04, 1.82188534e+04,\n",
       "       1.77213578e+04, 1.72374471e+04, 1.67667503e+04, 1.63089068e+04,\n",
       "       1.58635653e+04, 1.54303847e+04, 1.50090328e+04, 1.45991865e+04,\n",
       "       1.42005318e+04, 1.38127630e+04, 1.34355829e+04, 1.30687023e+04,\n",
       "       1.27118400e+04, 1.23647224e+04, 1.20270833e+04, 1.16986641e+04,\n",
       "       1.13792129e+04, 1.10684849e+04, 1.07662418e+04, 1.04722519e+04,\n",
       "       1.01862899e+04, 9.90813657e+03, 9.63757866e+03, 9.37440879e+03,\n",
       "       9.11842520e+03, 8.86943166e+03, 8.62723729e+03, 8.39165644e+03,\n",
       "       8.16250851e+03, 7.93961785e+03, 7.72281357e+03, 7.51192949e+03,\n",
       "       7.30680395e+03, 7.10727970e+03, 6.91320378e+03, 6.72442742e+03,\n",
       "       6.54080591e+03, 6.36219849e+03, 6.18846824e+03, 6.01948197e+03,\n",
       "       5.85511016e+03, 5.69522678e+03, 5.53970928e+03, 5.38843844e+03,\n",
       "       5.24129830e+03, 5.09817606e+03, 4.95896201e+03, 4.82354943e+03,\n",
       "       4.69183451e+03, 4.56371628e+03, 4.43909653e+03, 4.31787973e+03,\n",
       "       4.19997295e+03, 4.08528580e+03, 3.97373038e+03, 3.86522116e+03,\n",
       "       3.75967497e+03, 3.65701088e+03, 3.55715021e+03, 3.46001639e+03,\n",
       "       3.36553498e+03, 3.27363353e+03, 3.18424160e+03, 3.09729067e+03,\n",
       "       3.01271407e+03, 2.93044698e+03, 2.85042632e+03, 2.77259076e+03,\n",
       "       2.69688063e+03, 2.62323788e+03, 2.55160607e+03, 2.48193029e+03,\n",
       "       2.41415712e+03, 2.34823460e+03, 2.28411221e+03, 2.22174078e+03,\n",
       "       2.16107251e+03, 2.10206088e+03, 2.04466067e+03, 1.98882786e+03,\n",
       "       1.93451965e+03, 1.88169442e+03, 1.83031168e+03, 1.78033202e+03,\n",
       "       1.73171713e+03, 1.68442976e+03, 1.63843365e+03, 1.59369353e+03,\n",
       "       1.55017512e+03, 1.50784505e+03, 1.46667087e+03, 1.42662102e+03,\n",
       "       1.38766479e+03, 1.34977233e+03, 1.31291459e+03, 1.27706330e+03,\n",
       "       1.24219100e+03, 1.20827094e+03, 1.17527712e+03, 1.14318425e+03,\n",
       "       1.11196773e+03, 1.08160363e+03, 1.05206867e+03, 1.02334021e+03,\n",
       "       9.95396231e+02, 9.68215306e+02, 9.41776601e+02, 9.16059848e+02,\n",
       "       8.91045332e+02, 8.66713880e+02, 8.43046837e+02, 8.20026062e+02,\n",
       "       7.97633907e+02, 7.75853206e+02, 7.54667263e+02, 7.34059837e+02,\n",
       "       7.14015130e+02, 6.94517777e+02, 6.75552832e+02, 6.57105755e+02,\n",
       "       6.39162405e+02, 6.21709029e+02, 6.04732245e+02, 5.88219040e+02,\n",
       "       5.72156756e+02, 5.56533078e+02, 5.41336030e+02, 5.26553963e+02,\n",
       "       5.12175544e+02, 4.98189752e+02, 4.84585864e+02, 4.71353453e+02,\n",
       "       4.58482375e+02, 4.45962763e+02, 4.33785019e+02, 4.21939808e+02,\n",
       "       4.10418050e+02, 3.99210913e+02, 3.88309805e+02, 3.77706369e+02,\n",
       "       3.67392478e+02, 3.57360225e+02, 3.47601918e+02, 3.38110078e+02,\n",
       "       3.28877429e+02, 3.19896892e+02, 3.11161583e+02, 3.02664806e+02,\n",
       "       2.94400048e+02, 2.86360972e+02, 2.78541416e+02, 2.70935387e+02,\n",
       "       2.63537052e+02, 2.56340741e+02, 2.49340937e+02, 2.42532274e+02,\n",
       "       2.35909533e+02, 2.29467637e+02, 2.23201647e+02, 2.17106760e+02,\n",
       "       2.11178304e+02, 2.05411735e+02, 1.99802631e+02, 1.94346693e+02,\n",
       "       1.89039738e+02, 1.83877698e+02, 1.78856616e+02, 1.73972643e+02,\n",
       "       1.69222035e+02, 1.64601150e+02, 1.60106446e+02, 1.55734477e+02,\n",
       "       1.51481892e+02, 1.47345431e+02, 1.43321923e+02, 1.39408283e+02,\n",
       "       1.35601511e+02, 1.31898690e+02, 1.28296980e+02, 1.24793621e+02,\n",
       "       1.21385926e+02, 1.18071285e+02, 1.14847155e+02, 1.11711065e+02,\n",
       "       1.08660611e+02, 1.05693455e+02, 1.02807322e+02, 1.00000000e+02])"
      ]
     },
     "execution_count": 9,
     "metadata": {},
     "output_type": "execute_result"
    }
   ],
   "source": [
    "Tplt=np.logspace(8,2,500)\n",
    "zetaPlt=np.log(Tsph/Tplt)\n",
    "\n",
    "ls.set_HeffGammaR()\n",
    "ls.set_initial_condition()\n",
    "ls.set_odesol(Tplt)\n",
    "Tplt"
   ]
  },
  {
   "cell_type": "code",
   "execution_count": 10,
   "metadata": {
    "pycharm": {
     "name": "#%%\n"
    }
   },
   "outputs": [],
   "source": [
    "from leptotools.SMconstants import *"
   ]
  },
  {
   "cell_type": "code",
   "execution_count": 11,
   "metadata": {
    "pycharm": {
     "name": "#%%\n"
    }
   },
   "outputs": [],
   "source": [
    "UpsWPGnn, UpsWMGnn, UpsPGnn, UpsMGnn, UpsPHnn, UpsMHnn, M2Hnn = M2UpsGen(ls.MN,ls.Y,dM=ls.dM)"
   ]
  },
  {
   "cell_type": "code",
   "execution_count": 12,
   "metadata": {
    "pycharm": {
     "name": "#%%\n"
    }
   },
   "outputs": [],
   "source": [
    "yM=mdp.yukawaMatrices(ls.Y,ls.MN)\n"
   ]
  },
  {
   "cell_type": "code",
   "execution_count": 13,
   "metadata": {
    "pycharm": {
     "name": "#%%\n"
    }
   },
   "outputs": [
    {
     "data": {
      "image/png": "[encoded data removed]",
      "text/plain": [
       "<Figure size 288x288 with 1 Axes>"
      ]
     },
     "metadata": {
      "needs_background": "light"
     },
     "output_type": "display_data"
    }
   ],
   "source": [
    "plt.matshow(UpsPGnn[:8,:8])\n",
    "plt.show()\n",
    "#plt.matshow(UpsPGnn[8:11,:8])\n",
    "#plt.show()\n",
    "#plt.matshow(UpsWPGnn[:8,8:11])\n",
    "#plt.show()\n",
    "\n"
   ]
  },
  {
   "cell_type": "markdown",
   "metadata": {
    "pycharm": {
     "name": "#%% md\n"
    }
   },
   "source": [
    "### Tests of momentum-averaging\n",
    "\n",
    "$h$-averaging"
   ]
  },
  {
   "cell_type": "code",
   "execution_count": 14,
   "metadata": {
    "pycharm": {
     "name": "#%%\n"
    }
   },
   "outputs": [],
   "source": [
    "from leptotools.rates import nF"
   ]
  },
  {
   "cell_type": "code",
   "execution_count": 15,
   "metadata": {
    "pycharm": {
     "name": "#%%\n"
    }
   },
   "outputs": [],
   "source": [
    "def hPAvgTest(zeta):\n",
    "    m=ls.Mb/Tsph*np.exp(zeta)\n",
    "    fN=1/(np.exp(np.sqrt(klist**2+m**2))+1)\n",
    "    #T=np.exp(-zeta)*Tsph\n",
    "    hPvec=hp(zeta)\n",
    "    return np.dot(wlist,hPvec*klist**2*fN)/(2*np.pi**2)/nF(m)\n",
    "\n",
    "def hMAvgTest(zeta):\n",
    "    m=ls.Mb/Tsph*np.exp(zeta)\n",
    "    fN=1/(np.exp(np.sqrt(klist**2+m**2))+1)\n",
    "    #T=np.exp(-zeta)*Tsph\n",
    "    hMvec=hm(zeta)\n",
    "    return np.dot(wlist,hMvec*klist**2*fN)/(2*np.pi**2)/nF(m)\n"
   ]
  },
  {
   "cell_type": "code",
   "execution_count": 16,
   "metadata": {
    "pycharm": {
     "name": "#%%\n"
    }
   },
   "outputs": [
    {
     "data": {
      "text/plain": [
       "[<matplotlib.lines.Line2D at 0x7f70058068e0>]"
      ]
     },
     "execution_count": 16,
     "metadata": {},
     "output_type": "execute_result"
    },
    {
     "data": {
      "image/png": "[encoded data removed]",
      "text/plain": [
       "<Figure size 432x288 with 1 Axes>"
      ]
     },
     "metadata": {
      "needs_background": "light"
     },
     "output_type": "display_data"
    }
   ],
   "source": [
    "ztest=np.linspace(-5,0,500)\n",
    "plt.semilogy(ztest, np.abs(ls.hNP(ztest)))\n",
    "plt.semilogy(ztest, np.abs(ls.hNM(ztest)))\n",
    "plt.semilogy(ztest, np.array([hPAvgTest(z) for z in ztest]),'--')\n",
    "plt.semilogy(ztest, np.array([np.abs(hMAvgTest(z)) for z in ztest]),'--')\n"
   ]
  },
  {
   "cell_type": "markdown",
   "metadata": {
    "pycharm": {
     "name": "#%% md\n"
    }
   },
   "source": [
    "$\\gamma$-averaging"
   ]
  },
  {
   "cell_type": "code",
   "execution_count": 17,
   "metadata": {
    "pycharm": {
     "name": "#%%\n"
    }
   },
   "outputs": [],
   "source": [
    "def GammaAvgTest(zeta):\n",
    "    m=ls.Mb/Tsph*np.exp(zeta)\n",
    "    fN=1/(np.exp(np.sqrt(klist**2+m**2))+1)\n",
    "    T=np.exp(-zeta)*Tsph\n",
    "    gNPvec=gP(zeta)\n",
    "    return np.dot(wlist,gNPvec*klist**2*fN*(1-fN))*12/(2*np.pi**2)"
   ]
  },
  {
   "cell_type": "code",
   "execution_count": 18,
   "metadata": {
    "pycharm": {
     "name": "#%%\n"
    }
   },
   "outputs": [
    {
     "data": {
      "image/png": "[encoded data removed]",
      "text/plain": [
       "<Figure size 432x288 with 1 Axes>"
      ]
     },
     "metadata": {
      "needs_background": "light"
     },
     "output_type": "display_data"
    }
   ],
   "source": [
    "z=np.logspace(-4,0,100)\n",
    "plt.semilogx(z, ls.gammanuP(np.log(z)))\n",
    "plt.semilogx(z, [GammaAvgTest(ze) for ze in np.log(z)])\n",
    "plt.ylim(0,0.015)\n",
    "plt.show()"
   ]
  },
  {
   "cell_type": "code",
   "execution_count": 19,
   "metadata": {
    "pycharm": {
     "name": "#%%\n"
    }
   },
   "outputs": [
    {
     "name": "stdout",
     "output_type": "stream",
     "text": [
      "0.00911878728170657\n",
      "0.0024859747205313366\n"
     ]
    }
   ],
   "source": [
    "print(ls.gammanuP(-3))\n",
    "print(GammaAvgTest(-3))"
   ]
  },
  {
   "cell_type": "markdown",
   "metadata": {},
   "source": [
    "## Momentum-depentent ODE"
   ]
  },
  {
   "cell_type": "markdown",
   "metadata": {
    "pycharm": {
     "name": "#%% md\n"
    }
   },
   "source": [
    "### Yukawa matrices:"
   ]
  },
  {
   "cell_type": "markdown",
   "metadata": {
    "pycharm": {
     "name": "#%% md\n"
    }
   },
   "source": [
    "The current version cannibalizes old code for the Yukawa matrices.\n",
    "This should be reimplemented as exemplified above.\n",
    "Cannibalized Yukawas are not JIT-compatible.\n",
    "Added a class to momentumDep that initializes the matrices,\n",
    "for now it lacks the chi-multiplied washout rates (we might want to remove this \"feature\" anyway)."
   ]
  },
  {
   "cell_type": "code",
   "execution_count": 20,
   "metadata": {
    "pycharm": {
     "name": "#%%\n"
    }
   },
   "outputs": [],
   "source": [
    "chi = -2 * (np.eye(3) * (257 - 20) + 20) / 711\n",
    "# TODO: check this\n",
    "#-1/16*np.dot(chi,yM.UpsPGnuN).T - yM.UpsWPGNnu"
   ]
  },
  {
   "cell_type": "markdown",
   "metadata": {
    "pycharm": {
     "name": "#%% md\n"
    }
   },
   "source": [
    "Interestingly enough - 2x faster without JIT!!!"
   ]
  },
  {
   "cell_type": "code",
   "execution_count": 21,
   "metadata": {
    "pycharm": {
     "name": "#%%\n"
    }
   },
   "outputs": [],
   "source": [
    "#@jit\n",
    "def Gamma(zeta):\n",
    "    T=np.exp(-zeta)*Tsph\n",
    "    #m=ls.Mb/T\n",
    "    m=MHNL/T\n",
    "    fN=1/(np.exp(np.sqrt(klist**2+m**2))+1)\n",
    "    gNPvec=gP(zeta)\n",
    "    gNMvec=gM(zeta)\n",
    "    # LNC rates\n",
    "    GPNN=np.kron(np.diag(gNPvec), yM.UpsPGNN)\n",
    "    GPnuN=np.kron(1/(2*np.pi**2)*klist**2*gNPvec*wlist, yM.UpsPGnuN )\n",
    "    GPNnu=np.kron(12*gNPvec*fN*(1-fN), yM.UpsWPGNnu.T).T\n",
    "    GPnunu=np.dot(wlist, gNPvec*klist**2*fN*(1-fN))*12/(2*np.pi**2)*yM.UpsnunuChi\n",
    "    # LNV rates\n",
    "    GMNN=np.kron(np.diag(gNMvec), yM.UpsMGNN)\n",
    "    GMnuN=np.kron(1/(2*np.pi**2)*klist**2*gNMvec*wlist, yM.UpsMGnuN)\n",
    "    GMNnu=np.kron(12*gNMvec*fN*(1-fN), yM.UpsWMGNnu.T).T\n",
    "    GMnunu=np.dot(wlist, gNMvec*klist**2*fN*(1-fN))*12/(2*np.pi**2)*yM.UpsnunuChi\n",
    "    #return GPNN\n",
    "    return np.block([[GPNN+GMNN, GPNnu+GMNnu],\n",
    "                     [GPnuN+GMnuN, GPnunu+GMnunu]])*np.exp(zeta)"
   ]
  },
  {
   "cell_type": "code",
   "execution_count": 22,
   "metadata": {
    "pycharm": {
     "name": "#%%\n"
    }
   },
   "outputs": [
    {
     "name": "stdout",
     "output_type": "stream",
     "text": [
      "353 µs ± 25.2 µs per loop (mean ± std. dev. of 7 runs, 1000 loops each)\n"
     ]
    }
   ],
   "source": [
    "%timeit Gamma(-3)"
   ]
  },
  {
   "cell_type": "code",
   "execution_count": 23,
   "metadata": {
    "pycharm": {
     "name": "#%%\n"
    }
   },
   "outputs": [
    {
     "data": {
      "text/plain": [
       "array([[0., 0., 0., ..., 0., 0., 0.],\n",
       "       [0., 0., 0., ..., 0., 0., 0.],\n",
       "       [0., 0., 0., ..., 0., 0., 0.],\n",
       "       ...,\n",
       "       [0., 0., 0., ..., 0., 0., 0.],\n",
       "       [0., 0., 0., ..., 0., 0., 0.],\n",
       "       [0., 0., 0., ..., 0., 0., 0.]])"
      ]
     },
     "execution_count": 23,
     "metadata": {},
     "output_type": "execute_result"
    }
   ],
   "source": [
    "def H(zeta):\n",
    "    m=ls.Mb/Tsph*np.exp(zeta)\n",
    "    En=np.sqrt(m**2+klist**2)\n",
    "    #Hvac=np.kron(np.diag(1/En), np.exp(zeta*3)*0.5*yM.M2Hnn)\n",
    "    Hvac=np.kron(np.diag(1/En), np.exp(zeta*3)*0.5*M2Hnn[:8,:8])\n",
    "    return np.block([[Hvac, np.zeros([8*len(klist),3])],\n",
    "                     [np.zeros([3,8*len(klist)]),np.eye(3)*0]])\n",
    "H(1)"
   ]
  },
  {
   "cell_type": "code",
   "execution_count": 24,
   "metadata": {
    "pycharm": {
     "name": "#%%\n"
    }
   },
   "outputs": [],
   "source": [
    "def Hth(zeta):\n",
    "    HthP=np.kron(np.diag(hp(zeta)), yM.UpsPHNN)\n",
    "    HthM=np.kron(np.diag(hm(zeta)), yM.UpsMHNN)\n",
    "    return np.block([[HthP + HthM, np.zeros([8*len(klist),3])],\n",
    "                     [np.zeros([3,8*len(klist)]),np.eye(3)*0]])*np.exp(zeta)\n",
    "\n"
   ]
  },
  {
   "cell_type": "markdown",
   "metadata": {
    "pycharm": {
     "name": "#%% md\n"
    }
   },
   "source": [
    "### ODE:"
   ]
  },
  {
   "cell_type": "code",
   "execution_count": 25,
   "metadata": {
    "pycharm": {
     "name": "#%%\n"
    }
   },
   "outputs": [],
   "source": [
    "def fode(x,zeta):\n",
    "    GReg=np.dot(H(zeta) + Hth(zeta) -Gamma(zeta),np.linalg.inv( -(H(zeta))/1e5+np.eye(8*len(klist)+3)   ))\n",
    "    #GReg=H(zeta)-Gamma(zeta)\n",
    "    return np.dot(GReg,x)\n"
   ]
  },
  {
   "cell_type": "code",
   "execution_count": 26,
   "metadata": {
    "pycharm": {
     "name": "#%%\n"
    }
   },
   "outputs": [
    {
     "data": {
      "text/plain": [
       "array([-6.62082840e-03, -3.58737387e-03, -1.77621556e-03, -8.36413502e-04,\n",
       "       -3.84109057e-04, -1.74317853e-04, -7.86797173e-05, -3.54249461e-05,\n",
       "       -1.59320075e-05, -7.16165455e-06])"
      ]
     },
     "execution_count": 26,
     "metadata": {},
     "output_type": "execute_result"
    }
   ],
   "source": [
    "y0=-1/(1+np.exp(klist))*Tsph**3/sent(Tsph)\n",
    "y0N=np.append(np.kron(y0,np.array([1,1,0,0,0,0,0,0])),np.zeros(3))\n",
    "y0"
   ]
  },
  {
   "cell_type": "code",
   "execution_count": 27,
   "metadata": {
    "pycharm": {
     "name": "#%%\n"
    }
   },
   "outputs": [
    {
     "name": "stdout",
     "output_type": "stream",
     "text": [
      "CPU times: user 3min 45s, sys: 2.29 s, total: 3min 47s\n",
      "Wall time: 57.3 s\n"
     ]
    },
    {
     "name": "stderr",
     "output_type": "stream",
     "text": [
      "/home/admin/anaconda3/lib/python3.9/site-packages/scipy/integrate/odepack.py:247: ODEintWarning: Excess work done on this call (perhaps wrong Dfun type). Run with full_output = 1 to get quantitative information.\n",
      "  warnings.warn(warning_msg, ODEintWarning)\n"
     ]
    }
   ],
   "source": [
    "%%time\n",
    "Xsol=odeint(fode,y0N,zetaPlt, atol=1e-15, rtol=1e-6)\n"
   ]
  },
  {
   "cell_type": "code",
   "execution_count": 42,
   "metadata": {},
   "outputs": [
    {
     "name": "stdout",
     "output_type": "stream",
     "text": [
      "[[-6.62082840e-03 -6.62082840e-03 -0.00000000e+00 ...  0.00000000e+00\n",
      "   0.00000000e+00  0.00000000e+00]\n",
      " [-6.62060102e-03 -6.62060102e-03  3.21573802e-07 ... -1.42039485e-33\n",
      "  -9.10423020e-33  1.05246249e-32]\n",
      " [-6.62036726e-03 -6.62036726e-03  6.52152283e-07 ... -4.57670118e-33\n",
      "  -2.93349533e-32  3.39117251e-32]\n",
      " ...\n",
      " [ 0.00000000e+00  0.00000000e+00  0.00000000e+00 ...  0.00000000e+00\n",
      "   0.00000000e+00  0.00000000e+00]\n",
      " [ 0.00000000e+00  0.00000000e+00  0.00000000e+00 ...  0.00000000e+00\n",
      "   0.00000000e+00  0.00000000e+00]\n",
      " [ 0.00000000e+00  0.00000000e+00  0.00000000e+00 ...  0.00000000e+00\n",
      "   0.00000000e+00  0.00000000e+00]]\n"
     ]
    }
   ],
   "source": []
  },
  {
   "cell_type": "code",
   "execution_count": 28,
   "metadata": {
    "pycharm": {
     "name": "#%%\n"
    }
   },
   "outputs": [
    {
     "data": {
      "image/png": "[encoded data removed]",
      "text/plain": [
       "<Figure size 432x288 with 1 Axes>"
      ]
     },
     "metadata": {
      "needs_background": "light"
     },
     "output_type": "display_data"
    }
   ],
   "source": [
    "for i in reversed(range(Nmodes)):\n",
    "    plt.plot(zetaPlt, Xsol[:,3+8*i],c=plt.cm.jet_r(i/Nmodes))"
   ]
  },
  {
   "cell_type": "code",
   "execution_count": 29,
   "metadata": {
    "pycharm": {
     "name": "#%%\n"
    }
   },
   "outputs": [
    {
     "data": {
      "text/plain": [
       "<matplotlib.contour.QuadContourSet at 0x7f7003a4ca30>"
      ]
     },
     "execution_count": 29,
     "metadata": {},
     "output_type": "execute_result"
    },
    {
     "data": {
      "image/png": "[encoded data removed]",
      "text/plain": [
       "<Figure size 432x288 with 1 Axes>"
      ]
     },
     "metadata": {
      "needs_background": "light"
     },
     "output_type": "display_data"
    }
   ],
   "source": [
    "plt.contourf(klist, zetaPlt[:-1], Xsol[:-1,:-3][:,::8])"
   ]
  },
  {
   "cell_type": "code",
   "execution_count": 30,
   "metadata": {
    "pycharm": {
     "name": "#%%\n"
    }
   },
   "outputs": [
    {
     "data": {
      "text/plain": [
       "<matplotlib.contour.QuadContourSet at 0x7f700394d6d0>"
      ]
     },
     "execution_count": 30,
     "metadata": {},
     "output_type": "execute_result"
    },
    {
     "data": {
      "image/png": "[encoded data removed]",
      "text/plain": [
       "<Figure size 432x288 with 1 Axes>"
      ]
     },
     "metadata": {
      "needs_background": "light"
     },
     "output_type": "display_data"
    }
   ],
   "source": [
    "plt.contourf(klist, zetaPlt[:-1], Xsol[:-1,:-3][:,2::8])"
   ]
  },
  {
   "cell_type": "code",
   "execution_count": 31,
   "metadata": {
    "pycharm": {
     "name": "#%%\n"
    }
   },
   "outputs": [
    {
     "data": {
      "text/plain": [
       "[<matplotlib.lines.Line2D at 0x7f70038cb5e0>,\n",
       " <matplotlib.lines.Line2D at 0x7f70038cb610>,\n",
       " <matplotlib.lines.Line2D at 0x7f70038cb730>]"
      ]
     },
     "execution_count": 31,
     "metadata": {},
     "output_type": "execute_result"
    },
    {
     "data": {
      "image/png": "[encoded data removed]",
      "text/plain": [
       "<Figure size 432x288 with 1 Axes>"
      ]
     },
     "metadata": {
      "needs_background": "light"
     },
     "output_type": "display_data"
    }
   ],
   "source": [
    "plt.plot(zetaPlt[:-30], Xsol[:-30,-3:])"
   ]
  },
  {
   "cell_type": "code",
   "execution_count": 32,
   "metadata": {
    "pycharm": {
     "name": "#%%\n"
    }
   },
   "outputs": [
    {
     "data": {
      "text/plain": [
       "[]"
      ]
     },
     "execution_count": 32,
     "metadata": {},
     "output_type": "execute_result"
    },
    {
     "data": {
      "image/png": "[encoded data removed]",
      "text/plain": [
       "<Figure size 432x288 with 1 Axes>"
      ]
     },
     "metadata": {
      "needs_background": "light"
     },
     "output_type": "display_data"
    }
   ],
   "source": [
    "plt.semilogy(zetaPlt[:-30],np.abs(Xsol[:-30,-3:]))\n",
    "plt.semilogy(zetaPlt[:-30],28/79*np.abs(np.sum(Xsol[:-30,-3:],axis=1)), '--')\n",
    "plt.axhline(8.5e-11)\n",
    "plt.plot()"
   ]
  },
  {
   "cell_type": "code",
   "execution_count": 33,
   "metadata": {},
   "outputs": [
    {
     "data": {
      "text/plain": [
       "2.40076403912148e-10"
      ]
     },
     "execution_count": 33,
     "metadata": {},
     "output_type": "execute_result"
    }
   ],
   "source": [
    "28/79*np.abs(np.sum(Xsol[:-30,-3:],axis=1))[-1]"
   ]
  },
  {
   "cell_type": "code",
   "execution_count": 34,
   "metadata": {
    "pycharm": {
     "name": "#%%\n"
    }
   },
   "outputs": [
    {
     "data": {
      "image/png": "[encoded data removed]",
      "text/plain": [
       "<Figure size 432x288 with 1 Axes>"
      ]
     },
     "metadata": {
      "needs_background": "light"
     },
     "output_type": "display_data"
    }
   ],
   "source": [
    "plt.loglog(np.exp(zetaPlt[:]),np.abs(Xsol[:,-3:]))\n",
    "#plt.semilogy(zetaPlt[:],28/79*np.abs(np.sum(Xsol[:,-3:],axis=1)), '--')\n",
    "\n",
    "plt.loglog(Tsph/ls.Tlist, 2*np.abs(ls.xsol[:,-3:]),'--')\n",
    "plt.ylim(1e-13,1e-3)\n",
    "plt.ylabel(r'$Y_L$')\n",
    "plt.xlabel(r'$z=T_{sph}/T$')\n",
    "plt.show()"
   ]
  },
  {
   "cell_type": "code",
   "execution_count": 35,
   "metadata": {
    "pycharm": {
     "name": "#%%\n"
    }
   },
   "outputs": [
    {
     "data": {
      "image/png": "[encoded data removed]",
      "text/plain": [
       "<Figure size 432x288 with 1 Axes>"
      ]
     },
     "metadata": {
      "needs_background": "light"
     },
     "output_type": "display_data"
    }
   ],
   "source": [
    "plt.loglog(Tsph/np.exp(zetaPlt[:]),np.abs(Xsol[:,-3:]))\n",
    "#plt.semilogy(zetaPlt[:],28/79*np.abs(np.sum(Xsol[:,-3:],axis=1)), '--')\n",
    "\n",
    "plt.loglog(ls.Tlist, 2*np.abs(ls.xsol[:,-3:]),'--')\n",
    "plt.ylim(1e-13,1e-3)\n",
    "plt.ylabel(r'$Y_L$')\n",
    "plt.xlabel(r'$T$')\n",
    "plt.show()"
   ]
  },
  {
   "cell_type": "code",
   "execution_count": 36,
   "metadata": {
    "pycharm": {
     "name": "#%%\n"
    }
   },
   "outputs": [
    {
     "data": {
      "text/plain": [
       "[<matplotlib.lines.Line2D at 0x7f70043b5220>]"
      ]
     },
     "execution_count": 36,
     "metadata": {},
     "output_type": "execute_result"
    },
    {
     "data": {
      "image/png": "[encoded data removed]",
      "text/plain": [
       "<Figure size 432x288 with 1 Axes>"
      ]
     },
     "metadata": {
      "needs_background": "light"
     },
     "output_type": "display_data"
    }
   ],
   "source": [
    "plt.plot(zetaPlt, np.dot(wlist*klist**2/(2*np.pi**2), Xsol[:,:-3][:,0::8].T))\n",
    "plt.plot(zetaPlt, np.dot(wlist*klist**2/(2*np.pi**2), Xsol[:,:-3][:,1::8].T))\n",
    "plt.plot(zetaPlt, np.dot(wlist*klist**2/(2*np.pi**2), Xsol[:,:-3][:,2::8].T))\n",
    "plt.plot(zetaPlt, np.dot(wlist*klist**2/(2*np.pi**2), Xsol[:,:-3][:,3::8].T))\n",
    "\n",
    "plt.plot(np.log(Tsph/ls.Tlist), ls.xsol[:,0], '--')"
   ]
  },
  {
   "cell_type": "code",
   "execution_count": 37,
   "metadata": {
    "pycharm": {
     "name": "#%%\n"
    }
   },
   "outputs": [
    {
     "data": {
      "text/plain": [
       "[<matplotlib.lines.Line2D at 0x7f7003d37130>]"
      ]
     },
     "execution_count": 37,
     "metadata": {},
     "output_type": "execute_result"
    },
    {
     "data": {
      "image/png": "[encoded data removed]",
      "text/plain": [
       "<Figure size 432x288 with 1 Axes>"
      ]
     },
     "metadata": {
      "needs_background": "light"
     },
     "output_type": "display_data"
    }
   ],
   "source": [
    "#plt.plot(t[:],Xsol[:,-3:])\n",
    "#plt.plot(t[:],28/79*np.abs(np.sum(Xsol[:,-3:],axis=1)), '--')\n",
    "\n",
    "plt.plot(zetaPlt, 1/2*np.sum(Xsol[:,-3:],axis=1), '-')\n",
    "plt.plot(zetaPlt, np.dot(wlist*klist**2/(2*np.pi**2), Xsol[:,:-3][:,4::8].T + Xsol[:,:-3][:,5::8].T),'--')\n",
    "#plt.plot(t, np.dot(wlist,Xsol[:,:-3][:,4::8].T))\n",
    "#plt.plot(t, np.dot(wlist,Xsol[:,:-3][:,5::8].T))\n",
    "#plt.plot(t,np.dot(wlist,Xsol[:,:-3][:,6::8].T))\n",
    "#plt.plot(t,np.dot(wlist,Xsol[:,:-3][:,7::8].T))"
   ]
  },
  {
   "cell_type": "code",
   "execution_count": 38,
   "metadata": {
    "pycharm": {
     "name": "#%%\n"
    }
   },
   "outputs": [
    {
     "data": {
      "image/png": "[encoded data removed]",
      "text/plain": [
       "<Figure size 432x288 with 1 Axes>"
      ]
     },
     "metadata": {
      "needs_background": "light"
     },
     "output_type": "display_data"
    }
   ],
   "source": [
    "plt.plot(zetaPlt, -1/2*np.sum(Xsol[:,-3:],axis=1) + np.dot(wlist*klist**2/(2*np.pi**2), Xsol[:,:-3][:,4::8].T + Xsol[:,:-3][:,5::8].T),'--')\n",
    "\n",
    "plt.show()\n"
   ]
  },
  {
   "cell_type": "markdown",
   "metadata": {
    "pycharm": {
     "name": "#%% md\n"
    }
   },
   "source": [
    "# ↓↓↓ Old code ↓↓↓\n",
    "## Gauß-Laguerre Quadrature"
   ]
  },
  {
   "cell_type": "code",
   "execution_count": 39,
   "metadata": {
    "pycharm": {
     "name": "#%%\n"
    }
   },
   "outputs": [],
   "source": [
    "kquad, wquad=np.polynomial.laguerre.laggauss(5)"
   ]
  },
  {
   "cell_type": "code",
   "execution_count": 40,
   "metadata": {
    "pycharm": {
     "name": "#%%\n"
    }
   },
   "outputs": [],
   "source": [
    "#\n",
    "#omegaQ=np.kron(np.diag(1/kquad),commutator2matrix(np.diag([1,-1])))\n",
    "#gammaQ=np.kron(np.diag(kquad**0),anticommutator2matrix(np.array([[1,1],[1,1]])))\n",
    "#\n",
    "#def fodeQ(x,z):\n",
    "#    return np.dot(0.5*omegaQ-0.05*gammaQ/2,x)\n",
    "#\n",
    "#\n",
    "##%%\n",
    "#\n",
    "#y0Q=kquad**2/(1+np.exp(kquad))\n",
    "#y0NQ=np.kron(y0Q,np.array([1,1,0,0]))\n",
    "#\n",
    "##%%\n",
    "#\n",
    "#XsolQ=odeint(fodeQ,y0NQ,t)\n",
    "#\n",
    "##%%\n",
    "#\n",
    "#plt.plot(t,np.trapz(Xsol[:,0::4],klist,axis=1))\n",
    "#plt.plot(t,np.dot(XsolQ[:,::4],wquad*np.exp(kquad)),'--')\n",
    "#\n",
    "##%%\n",
    "#\n",
    "#plt.plot(t,np.trapz(Xsol[:,2::4],klist,axis=1))\n",
    "#plt.plot(t,np.dot(XsolQ[:,2::4],wquad*np.exp(kquad)),'--')\n",
    "#\n",
    "#plt.plot(t,np.trapz(Xsol[:,3::4],klist,axis=1))\n",
    "#plt.plot(t,np.dot(XsolQ[:,3::4],wquad*np.exp(kquad)),'--')\n",
    "#\n",
    "#\n",
    "##%%\n",
    "#\n",
    "#np.polynomial.laguerre.laggauss(2)\n",
    "#\n",
    "##%%\n",
    "#\n"
   ]
  },
  {
   "cell_type": "code",
   "execution_count": null,
   "metadata": {},
   "outputs": [],
   "source": []
  }
 ],
 "metadata": {
  "kernelspec": {
   "display_name": "Python 3 (ipykernel)",
   "language": "python",
   "name": "python3"
  },
  "language_info": {
   "codemirror_mode": {
    "name": "ipython",
    "version": 3
   },
   "file_extension": ".py",
   "mimetype": "text/x-python",
   "name": "python",
   "nbconvert_exporter": "python",
   "pygments_lexer": "ipython3",
   "version": "3.9.7"
  }
 },
 "nbformat": 4,
 "nbformat_minor": 1
}
