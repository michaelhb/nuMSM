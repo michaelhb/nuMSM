{
 "cells": [
  {
   "cell_type": "code",
   "execution_count": 1,
   "metadata": {},
   "outputs": [],
   "source": [
    "import numpy as np\n",
    "import matplotlib.pyplot as plt\n",
    "from leptotools import momentumDep as mdp\n",
    "\n",
    "from leptotools.SMconstants import Tsph\n",
    "from scipy.integrate import odeint"
   ]
  },
  {
   "cell_type": "markdown",
   "metadata": {
    "pycharm": {
     "name": "#%% md\n"
    }
   },
   "source": [
    "### List of momentum modes"
   ]
  },
  {
   "cell_type": "code",
   "execution_count": 2,
   "metadata": {
    "pycharm": {
     "name": "#%%\n"
    }
   },
   "outputs": [
    {
     "name": "stdout",
     "output_type": "stream",
     "text": [
      "[0.8 1.6 2.4 3.2 4.  4.8 5.6 6.4 7.2 8. ]\n",
      "array([0.8, 0.8, 0.8, 0.8, 0.8, 0.8, 0.8, 0.8, 0.8, 0.8])\n"
     ]
    }
   ],
   "source": [
    "Nmodes=10\n",
    "klist=np.linspace(0,8,Nmodes+1)[1:]   # Skip the first mode - it is singular\n",
    "wlist=np.ones(len(klist))*(klist[1]-klist[0])\n",
    "\n",
    "kquad, wquad=np.polynomial.laguerre.laggauss(Nmodes)\n",
    "#klist=kquad\n",
    "#wlist=wquad\n",
    "print(klist)\n",
    "print(repr(wlist))\n",
    "\n",
    "wlist = np.array([0.4, 0.8, 0.8, 0.8, 0.8, 0.8, 0.8, 0.8, 0.8, 0.4])"
   ]
  },
  {
   "cell_type": "markdown",
   "metadata": {
    "pycharm": {
     "name": "#%% md\n"
    }
   },
   "source": [
    "# Set HNL masses"
   ]
  },
  {
   "cell_type": "code",
   "execution_count": 3,
   "metadata": {
    "pycharm": {
     "name": "#%%\n"
    }
   },
   "outputs": [],
   "source": [
    "MHNL=2 #GeV"
   ]
  },
  {
   "cell_type": "markdown",
   "metadata": {
    "pycharm": {
     "name": "#%% md\n"
    }
   },
   "source": [
    "### JIT accelerated rates"
   ]
  },
  {
   "cell_type": "code",
   "execution_count": 4,
   "metadata": {
    "pycharm": {
     "name": "#%%\n"
    }
   },
   "outputs": [],
   "source": [
    "(gP, gM) = mdp.interpFast(MHNL, klist)"
   ]
  },
  {
   "cell_type": "code",
   "execution_count": 5,
   "metadata": {
    "pycharm": {
     "name": "#%%\n"
    }
   },
   "outputs": [
    {
     "name": "stdout",
     "output_type": "stream",
     "text": [
      "The slowest run took 8.25 times longer than the fastest. This could mean that an intermediate result is being cached.\n",
      "5.6 µs ± 6.66 µs per loop (mean ± std. dev. of 7 runs, 1 loop each)\n"
     ]
    }
   ],
   "source": [
    "%timeit gP(-3)"
   ]
  },
  {
   "cell_type": "markdown",
   "metadata": {
    "pycharm": {
     "name": "#%% md\n"
    }
   },
   "source": [
    "thermal masses function:"
   ]
  },
  {
   "cell_type": "code",
   "execution_count": 6,
   "metadata": {
    "pycharm": {
     "name": "#%%\n"
    }
   },
   "outputs": [],
   "source": [
    "(hp,hm) = mdp.interpHFast(MHNL,klist)"
   ]
  },
  {
   "cell_type": "code",
   "execution_count": 7,
   "metadata": {
    "pycharm": {
     "name": "#%%\n"
    }
   },
   "outputs": [
    {
     "name": "stdout",
     "output_type": "stream",
     "text": [
      "2.3 µs ± 26.8 ns per loop (mean ± std. dev. of 7 runs, 100000 loops each)\n"
     ]
    }
   ],
   "source": [
    "%timeit hp(-3)"
   ]
  },
  {
   "cell_type": "markdown",
   "metadata": {
    "pycharm": {
     "name": "#%% md\n"
    }
   },
   "source": [
    "### Equation setup"
   ]
  },
  {
   "cell_type": "code",
   "execution_count": 8,
   "metadata": {
    "pycharm": {
     "name": "#%%\n"
    }
   },
   "outputs": [],
   "source": [
    "from leptotools.lepto import M2UpsGen, heven, hodd\n",
    "from leptotools.scantools import leptogenesisScanSetup\n",
    "ls = leptogenesisScanSetup(2)\n",
    "\n",
    "ls.set_ordering('NO')\n",
    "#ls.set_dM(3e-10)\n",
    "ls.set_dM(3e-5)\n",
    "ls.set_romega(np.pi/4)\n",
    "ls.set_iomega(4.1)\n",
    "ls.set_delta(np.pi)\n",
    "ls.set_eta(1.5*np.pi)\n",
    "ls.set_xi(1)\n",
    "ls.set_CI()"
   ]
  },
  {
   "cell_type": "code",
   "execution_count": 9,
   "metadata": {
    "pycharm": {
     "name": "#%%\n"
    }
   },
   "outputs": [],
   "source": [
    "Tplt=np.logspace(8,2,500)\n",
    "zetaPlt=np.log(Tsph/Tplt)\n",
    "\n",
    "ls.set_HeffGammaR()\n",
    "ls.set_initial_condition()\n",
    "ls.set_odesol(Tplt)"
   ]
  },
  {
   "cell_type": "code",
   "execution_count": 10,
   "metadata": {
    "pycharm": {
     "name": "#%%\n"
    }
   },
   "outputs": [],
   "source": [
    "from leptotools.SMconstants import *"
   ]
  },
  {
   "cell_type": "code",
   "execution_count": 11,
   "metadata": {
    "pycharm": {
     "name": "#%%\n"
    }
   },
   "outputs": [],
   "source": [
    "UpsWPGnn, UpsWMGnn, UpsPGnn, UpsMGnn, UpsPHnn, UpsMHnn, M2Hnn = M2UpsGen(ls.MN,ls.Y,dM=ls.dM)"
   ]
  },
  {
   "cell_type": "code",
   "execution_count": 12,
   "metadata": {
    "pycharm": {
     "name": "#%%\n"
    }
   },
   "outputs": [],
   "source": [
    "yM=mdp.yukawaMatrices(ls.Y,ls.MN)\n"
   ]
  },
  {
   "cell_type": "code",
   "execution_count": 13,
   "metadata": {
    "pycharm": {
     "name": "#%%\n"
    }
   },
   "outputs": [
    {
     "data": {
      "image/png": "[encoded data removed]",
      "text/plain": [
       "<Figure size 288x288 with 1 Axes>"
      ]
     },
     "metadata": {
      "needs_background": "light"
     },
     "output_type": "display_data"
    }
   ],
   "source": [
    "plt.matshow(UpsPGnn[:8,:8])\n",
    "plt.show()\n",
    "#plt.matshow(UpsPGnn[8:11,:8])\n",
    "#plt.show()\n",
    "#plt.matshow(UpsWPGnn[:8,8:11])\n",
    "#plt.show()\n",
    "\n"
   ]
  },
  {
   "cell_type": "markdown",
   "metadata": {
    "pycharm": {
     "name": "#%% md\n"
    }
   },
   "source": [
    "### Tests of momentum-averaging\n",
    "\n",
    "$h$-averaging"
   ]
  },
  {
   "cell_type": "code",
   "execution_count": 14,
   "metadata": {
    "pycharm": {
     "name": "#%%\n"
    }
   },
   "outputs": [],
   "source": [
    "from leptotools.rates import nF"
   ]
  },
  {
   "cell_type": "code",
   "execution_count": 15,
   "metadata": {
    "pycharm": {
     "name": "#%%\n"
    }
   },
   "outputs": [],
   "source": [
    "def hPAvgTest(zeta):\n",
    "    m=ls.Mb/Tsph*np.exp(zeta)\n",
    "    fN=1/(np.exp(np.sqrt(klist**2+m**2))+1)\n",
    "    #T=np.exp(-zeta)*Tsph\n",
    "    hPvec=hp(zeta)\n",
    "    return np.dot(wlist,hPvec*klist**2*fN)/(2*np.pi**2)/nF(m)\n",
    "\n",
    "def hMAvgTest(zeta):\n",
    "    m=ls.Mb/Tsph*np.exp(zeta)\n",
    "    fN=1/(np.exp(np.sqrt(klist**2+m**2))+1)\n",
    "    #T=np.exp(-zeta)*Tsph\n",
    "    hMvec=hm(zeta)\n",
    "    return np.dot(wlist,hMvec*klist**2*fN)/(2*np.pi**2)/nF(m)\n"
   ]
  },
  {
   "cell_type": "code",
   "execution_count": 16,
   "metadata": {
    "pycharm": {
     "name": "#%%\n"
    }
   },
   "outputs": [
    {
     "data": {
      "text/plain": [
       "[<matplotlib.lines.Line2D at 0x7f6829b2a1f0>]"
      ]
     },
     "execution_count": 16,
     "metadata": {},
     "output_type": "execute_result"
    },
    {
     "data": {
      "image/png": "[encoded data removed]",
      "text/plain": [
       "<Figure size 432x288 with 1 Axes>"
      ]
     },
     "metadata": {
      "needs_background": "light"
     },
     "output_type": "display_data"
    }
   ],
   "source": [
    "ztest=np.linspace(-5,0,500)\n",
    "plt.semilogy(ztest, np.abs(ls.hNP(ztest)))\n",
    "plt.semilogy(ztest, np.abs(ls.hNM(ztest)))\n",
    "plt.semilogy(ztest, np.array([hPAvgTest(z) for z in ztest]),'--')\n",
    "plt.semilogy(ztest, np.array([np.abs(hMAvgTest(z)) for z in ztest]),'--')\n"
   ]
  },
  {
   "cell_type": "markdown",
   "metadata": {
    "pycharm": {
     "name": "#%% md\n"
    }
   },
   "source": [
    "$\\gamma$-averaging"
   ]
  },
  {
   "cell_type": "code",
   "execution_count": 17,
   "metadata": {
    "pycharm": {
     "name": "#%%\n"
    }
   },
   "outputs": [],
   "source": [
    "def GammaAvgTest(zeta):\n",
    "    m=ls.Mb/Tsph*np.exp(zeta)\n",
    "    fN=1/(np.exp(np.sqrt(klist**2+m**2))+1)\n",
    "    T=np.exp(-zeta)*Tsph\n",
    "    gNPvec=gP(zeta)\n",
    "    return np.dot(wlist,gNPvec*klist**2*fN*(1-fN))*12/(2*np.pi**2)"
   ]
  },
  {
   "cell_type": "code",
   "execution_count": 18,
   "metadata": {
    "pycharm": {
     "name": "#%%\n"
    }
   },
   "outputs": [
    {
     "data": {
      "image/png": "[encoded data removed]",
      "text/plain": [
       "<Figure size 432x288 with 1 Axes>"
      ]
     },
     "metadata": {
      "needs_background": "light"
     },
     "output_type": "display_data"
    }
   ],
   "source": [
    "z=np.logspace(-4,0,100)\n",
    "plt.semilogx(z, ls.gammanuP(np.log(z)))\n",
    "plt.semilogx(z, [GammaAvgTest(ze) for ze in np.log(z)])\n",
    "plt.ylim(0,0.015)\n",
    "plt.show()"
   ]
  },
  {
   "cell_type": "code",
   "execution_count": 19,
   "metadata": {
    "pycharm": {
     "name": "#%%\n"
    }
   },
   "outputs": [
    {
     "name": "stdout",
     "output_type": "stream",
     "text": [
      "0.00911878728170657\n",
      "0.007062871369166595\n"
     ]
    }
   ],
   "source": [
    "print(ls.gammanuP(-3))\n",
    "print(GammaAvgTest(-3))"
   ]
  },
  {
   "cell_type": "markdown",
   "metadata": {},
   "source": [
    "## Momentum-depentent ODE"
   ]
  },
  {
   "cell_type": "markdown",
   "metadata": {
    "pycharm": {
     "name": "#%% md\n"
    }
   },
   "source": [
    "### Yukawa matrices:"
   ]
  },
  {
   "cell_type": "markdown",
   "metadata": {
    "pycharm": {
     "name": "#%% md\n"
    }
   },
   "source": [
    "The current version cannibalizes old code for the Yukawa matrices.\n",
    "This should be reimplemented as exemplified above.\n",
    "Cannibalized Yukawas are not JIT-compatible.\n",
    "Added a class to momentumDep that initializes the matrices,\n",
    "for now it lacks the chi-multiplied washout rates (we might want to remove this \"feature\" anyway)."
   ]
  },
  {
   "cell_type": "code",
   "execution_count": 20,
   "metadata": {
    "pycharm": {
     "name": "#%%\n"
    }
   },
   "outputs": [],
   "source": [
    "chi = -2 * (np.eye(3) * (257 - 20) + 20) / 711\n",
    "# TODO: check this\n",
    "#-1/16*np.dot(chi,yM.UpsPGnuN).T - yM.UpsWPGNnu"
   ]
  },
  {
   "cell_type": "markdown",
   "metadata": {
    "pycharm": {
     "name": "#%% md\n"
    }
   },
   "source": [
    "Interestingly enough - 2x faster without JIT!!!"
   ]
  },
  {
   "cell_type": "code",
   "execution_count": 21,
   "metadata": {
    "pycharm": {
     "name": "#%%\n"
    }
   },
   "outputs": [],
   "source": [
    "#@jit\n",
    "def Gamma(zeta):\n",
    "    T=np.exp(-zeta)*Tsph\n",
    "    #m=ls.Mb/T\n",
    "    m=MHNL/T\n",
    "    fN=1/(np.exp(np.sqrt(klist**2+m**2))+1)\n",
    "    gNPvec=gP(zeta)\n",
    "    gNMvec=gM(zeta)\n",
    "    # LNC rates\n",
    "    GPNN=np.kron(np.diag(gNPvec), yM.UpsPGNN)\n",
    "    GPnuN=np.kron(1/(2*np.pi**2)*klist**2*gNPvec*wlist, yM.UpsPGnuN )\n",
    "    GPNnu=np.kron(12*gNPvec*fN*(1-fN), yM.UpsWPGNnu.T).T\n",
    "    GPnunu=np.dot(wlist, gNPvec*klist**2*fN*(1-fN))*12/(2*np.pi**2)*yM.UpsnunuChi\n",
    "    # LNV rates\n",
    "    GMNN=np.kron(np.diag(gNMvec), yM.UpsMGNN)\n",
    "    GMnuN=np.kron(1/(2*np.pi**2)*klist**2*gNMvec*wlist, yM.UpsMGnuN)\n",
    "    GMNnu=np.kron(12*gNMvec*fN*(1-fN), yM.UpsWMGNnu.T).T\n",
    "    GMnunu=np.dot(wlist, gNMvec*klist**2*fN*(1-fN))*12/(2*np.pi**2)*yM.UpsnunuChi\n",
    "    #return GPNN\n",
    "    return np.block([[GPNN+GMNN, GPNnu+GMNnu],\n",
    "                     [GPnuN+GMnuN, GPnunu+GMnunu]])*np.exp(zeta)"
   ]
  },
  {
   "cell_type": "code",
   "execution_count": 22,
   "metadata": {
    "pycharm": {
     "name": "#%%\n"
    }
   },
   "outputs": [
    {
     "name": "stdout",
     "output_type": "stream",
     "text": [
      "195 µs ± 4.44 µs per loop (mean ± std. dev. of 7 runs, 1000 loops each)\n"
     ]
    }
   ],
   "source": [
    "%timeit Gamma(-3)"
   ]
  },
  {
   "cell_type": "code",
   "execution_count": 23,
   "metadata": {
    "pycharm": {
     "name": "#%%\n"
    }
   },
   "outputs": [],
   "source": [
    "def H(zeta):\n",
    "    m=ls.Mb/Tsph*np.exp(zeta)\n",
    "    En=np.sqrt(m**2+klist**2)\n",
    "    #Hvac=np.kron(np.diag(1/En), np.exp(zeta*3)*0.5*yM.M2Hnn)\n",
    "    Hvac=np.kron(np.diag(1/En), np.exp(zeta*3)*0.5*M2Hnn[:8,:8])\n",
    "    return np.block([[Hvac, np.zeros([8*len(klist),3])],\n",
    "                     [np.zeros([3,8*len(klist)]),np.eye(3)*0]])"
   ]
  },
  {
   "cell_type": "code",
   "execution_count": 24,
   "metadata": {
    "pycharm": {
     "name": "#%%\n"
    }
   },
   "outputs": [],
   "source": [
    "def Hth(zeta):\n",
    "    HthP=np.kron(np.diag(hp(zeta)), yM.UpsPHNN)\n",
    "    HthM=np.kron(np.diag(hm(zeta)), yM.UpsMHNN)\n",
    "    return np.block([[HthP + HthM, np.zeros([8*len(klist),3])],\n",
    "                     [np.zeros([3,8*len(klist)]),np.eye(3)*0]])*np.exp(zeta)\n",
    "\n"
   ]
  },
  {
   "cell_type": "markdown",
   "metadata": {
    "pycharm": {
     "name": "#%% md\n"
    }
   },
   "source": [
    "### ODE:"
   ]
  },
  {
   "cell_type": "code",
   "execution_count": 25,
   "metadata": {
    "pycharm": {
     "name": "#%%\n"
    }
   },
   "outputs": [],
   "source": [
    "def fode(x,zeta):\n",
    "    GReg=np.dot(H(zeta) + Hth(zeta) -Gamma(zeta),np.linalg.inv( -(H(zeta))/1e5+np.eye(8*len(klist)+3)   ))\n",
    "    #GReg=H(zeta)-Gamma(zeta)\n",
    "    return np.dot(GReg,x)\n"
   ]
  },
  {
   "cell_type": "code",
   "execution_count": 26,
   "metadata": {
    "pycharm": {
     "name": "#%%\n"
    }
   },
   "outputs": [
    {
     "data": {
      "text/plain": [
       "array([-6.62082840e-03, -3.58737387e-03, -1.77621556e-03, -8.36413502e-04,\n",
       "       -3.84109057e-04, -1.74317853e-04, -7.86797173e-05, -3.54249461e-05,\n",
       "       -1.59320075e-05, -7.16165455e-06])"
      ]
     },
     "execution_count": 26,
     "metadata": {},
     "output_type": "execute_result"
    }
   ],
   "source": [
    "y0=-1/(1+np.exp(klist))*Tsph**3/sent(Tsph)\n",
    "y0N=np.append(np.kron(y0,np.array([1,1,0,0,0,0,0,0])),np.zeros(3))\n",
    "y0"
   ]
  },
  {
   "cell_type": "code",
   "execution_count": 27,
   "metadata": {
    "pycharm": {
     "name": "#%%\n"
    }
   },
   "outputs": [
    {
     "name": "stdout",
     "output_type": "stream",
     "text": [
      "CPU times: user 3min 20s, sys: 1.36 s, total: 3min 22s\n",
      "Wall time: 51.1 s\n"
     ]
    }
   ],
   "source": [
    "%%time\n",
    "Xsol=odeint(fode,y0N,zetaPlt, atol=1e-15, rtol=1e-6)\n"
   ]
  },
  {
   "cell_type": "code",
   "execution_count": 28,
   "metadata": {
    "pycharm": {
     "name": "#%%\n"
    }
   },
   "outputs": [
    {
     "data": {
      "image/png": "[encoded data removed]",
      "text/plain": [
       "<Figure size 432x288 with 1 Axes>"
      ]
     },
     "metadata": {
      "needs_background": "light"
     },
     "output_type": "display_data"
    }
   ],
   "source": [
    "for i in reversed(range(Nmodes)):\n",
    "    plt.plot(zetaPlt, Xsol[:,3+8*i],c=plt.cm.jet_r(i/Nmodes))"
   ]
  },
  {
   "cell_type": "code",
   "execution_count": 29,
   "metadata": {
    "pycharm": {
     "name": "#%%\n"
    }
   },
   "outputs": [
    {
     "data": {
      "text/plain": [
       "<matplotlib.contour.QuadContourSet at 0x7fca282c0af0>"
      ]
     },
     "execution_count": 29,
     "metadata": {},
     "output_type": "execute_result"
    },
    {
     "data": {
      "image/png": "[encoded data removed]",
      "text/plain": [
       "<Figure size 432x288 with 1 Axes>"
      ]
     },
     "metadata": {
      "needs_background": "light"
     },
     "output_type": "display_data"
    }
   ],
   "source": [
    "plt.contourf(klist, zetaPlt[:-1], Xsol[:-1,:-3][:,::8])"
   ]
  },
  {
   "cell_type": "code",
   "execution_count": 30,
   "metadata": {
    "pycharm": {
     "name": "#%%\n"
    }
   },
   "outputs": [
    {
     "data": {
      "text/plain": [
       "<matplotlib.contour.QuadContourSet at 0x7f73ac9d77c0>"
      ]
     },
     "execution_count": 30,
     "metadata": {},
     "output_type": "execute_result"
    },
    {
     "data": {
      "image/png": "[encoded data removed]",
      "text/plain": [
       "<Figure size 432x288 with 1 Axes>"
      ]
     },
     "metadata": {
      "needs_background": "light"
     },
     "output_type": "display_data"
    }
   ],
   "source": [
    "plt.contourf(klist, zetaPlt[:-1], Xsol[:-1,:-3][:,2::8])"
   ]
  },
  {
   "cell_type": "code",
   "execution_count": 31,
   "metadata": {
    "pycharm": {
     "name": "#%%\n"
    }
   },
   "outputs": [
    {
     "data": {
      "text/plain": [
       "[<matplotlib.lines.Line2D at 0x7f73ae03d2e0>,\n",
       " <matplotlib.lines.Line2D at 0x7f73ae03dbb0>,\n",
       " <matplotlib.lines.Line2D at 0x7f73ae03ddf0>]"
      ]
     },
     "execution_count": 31,
     "metadata": {},
     "output_type": "execute_result"
    },
    {
     "data": {
      "image/png": "[encoded data removed]",
      "text/plain": [
       "<Figure size 432x288 with 1 Axes>"
      ]
     },
     "metadata": {
      "needs_background": "light"
     },
     "output_type": "display_data"
    }
   ],
   "source": [
    "plt.plot(zetaPlt[:-30], Xsol[:-30,-3:])"
   ]
  },
  {
   "cell_type": "code",
   "execution_count": 32,
   "metadata": {
    "pycharm": {
     "name": "#%%\n"
    }
   },
   "outputs": [
    {
     "data": {
      "text/plain": [
       "[]"
      ]
     },
     "execution_count": 32,
     "metadata": {},
     "output_type": "execute_result"
    },
    {
     "data": {
      "image/png": "[encoded data removed]",
      "text/plain": [
       "<Figure size 432x288 with 1 Axes>"
      ]
     },
     "metadata": {
      "needs_background": "light"
     },
     "output_type": "display_data"
    }
   ],
   "source": [
    "plt.semilogy(zetaPlt[:-30],np.abs(Xsol[:-30,-3:]))\n",
    "plt.semilogy(zetaPlt[:-30],28/79*np.abs(np.sum(Xsol[:-30,-3:],axis=1)), '--')\n",
    "plt.axhline(8.5e-11)\n",
    "plt.plot()"
   ]
  },
  {
   "cell_type": "code",
   "execution_count": 33,
   "metadata": {},
   "outputs": [
    {
     "data": {
      "text/plain": [
       "6.388337216072643e-10"
      ]
     },
     "execution_count": 33,
     "metadata": {},
     "output_type": "execute_result"
    }
   ],
   "source": [
    "28/79*np.abs(np.sum(Xsol[:-30,-3:],axis=1))[-1]"
   ]
  },
  {
   "cell_type": "code",
   "execution_count": 34,
   "metadata": {
    "pycharm": {
     "name": "#%%\n"
    }
   },
   "outputs": [
    {
     "data": {
      "image/png": "[encoded data removed]",
      "text/plain": [
       "<Figure size 432x288 with 1 Axes>"
      ]
     },
     "metadata": {
      "needs_background": "light"
     },
     "output_type": "display_data"
    }
   ],
   "source": [
    "plt.loglog(np.exp(zetaPlt[:]),np.abs(Xsol[:,-3:]))\n",
    "#plt.semilogy(zetaPlt[:],28/79*np.abs(np.sum(Xsol[:,-3:],axis=1)), '--')\n",
    "\n",
    "plt.loglog(Tsph/ls.Tlist, 2*np.abs(ls.xsol[:,-3:]),'--')\n",
    "plt.ylim(1e-13,1e-3)\n",
    "plt.ylabel(r'$Y_L$')\n",
    "plt.xlabel(r'$z=T_{sph}/T$')\n",
    "plt.show()"
   ]
  },
  {
   "cell_type": "code",
   "execution_count": 35,
   "metadata": {
    "pycharm": {
     "name": "#%%\n"
    }
   },
   "outputs": [
    {
     "data": {
      "image/png": "[encoded data removed]",
      "text/plain": [
       "<Figure size 432x288 with 1 Axes>"
      ]
     },
     "metadata": {
      "needs_background": "light"
     },
     "output_type": "display_data"
    }
   ],
   "source": [
    "plt.loglog(Tsph/np.exp(zetaPlt[:]),np.abs(Xsol[:,-3:]))\n",
    "#plt.semilogy(zetaPlt[:],28/79*np.abs(np.sum(Xsol[:,-3:],axis=1)), '--')\n",
    "\n",
    "plt.loglog(ls.Tlist, 2*np.abs(ls.xsol[:,-3:]),'--')\n",
    "plt.ylim(1e-13,1e-3)\n",
    "plt.ylabel(r'$Y_L$')\n",
    "plt.xlabel(r'$T$')\n",
    "plt.show()"
   ]
  },
  {
   "cell_type": "code",
   "execution_count": 36,
   "metadata": {
    "pycharm": {
     "name": "#%%\n"
    }
   },
   "outputs": [
    {
     "data": {
      "text/plain": [
       "[<matplotlib.lines.Line2D at 0x7f73acfba0d0>]"
      ]
     },
     "execution_count": 36,
     "metadata": {},
     "output_type": "execute_result"
    },
    {
     "data": {
      "image/png": "[encoded data removed]",
      "text/plain": [
       "<Figure size 432x288 with 1 Axes>"
      ]
     },
     "metadata": {
      "needs_background": "light"
     },
     "output_type": "display_data"
    }
   ],
   "source": [
    "plt.plot(zetaPlt, np.dot(wlist*klist**2/(2*np.pi**2), Xsol[:,:-3][:,0::8].T))\n",
    "plt.plot(zetaPlt, np.dot(wlist*klist**2/(2*np.pi**2), Xsol[:,:-3][:,1::8].T))\n",
    "plt.plot(zetaPlt, np.dot(wlist*klist**2/(2*np.pi**2), Xsol[:,:-3][:,2::8].T))\n",
    "plt.plot(zetaPlt, np.dot(wlist*klist**2/(2*np.pi**2), Xsol[:,:-3][:,3::8].T))\n",
    "\n",
    "plt.plot(np.log(Tsph/ls.Tlist), ls.xsol[:,0], '--')"
   ]
  },
  {
   "cell_type": "code",
   "execution_count": 37,
   "metadata": {
    "pycharm": {
     "name": "#%%\n"
    }
   },
   "outputs": [
    {
     "data": {
      "text/plain": [
       "[<matplotlib.lines.Line2D at 0x7f73ac9c9c10>]"
      ]
     },
     "execution_count": 37,
     "metadata": {},
     "output_type": "execute_result"
    },
    {
     "data": {
      "image/png": "[encoded data removed]",
      "text/plain": [
       "<Figure size 432x288 with 1 Axes>"
      ]
     },
     "metadata": {
      "needs_background": "light"
     },
     "output_type": "display_data"
    }
   ],
   "source": [
    "#plt.plot(t[:],Xsol[:,-3:])\n",
    "#plt.plot(t[:],28/79*np.abs(np.sum(Xsol[:,-3:],axis=1)), '--')\n",
    "\n",
    "plt.plot(zetaPlt, 1/2*np.sum(Xsol[:,-3:],axis=1), '-')\n",
    "plt.plot(zetaPlt, np.dot(wlist*klist**2/(2*np.pi**2), Xsol[:,:-3][:,4::8].T + Xsol[:,:-3][:,5::8].T),'--')\n",
    "#plt.plot(t, np.dot(wlist,Xsol[:,:-3][:,4::8].T))\n",
    "#plt.plot(t, np.dot(wlist,Xsol[:,:-3][:,5::8].T))\n",
    "#plt.plot(t,np.dot(wlist,Xsol[:,:-3][:,6::8].T))\n",
    "#plt.plot(t,np.dot(wlist,Xsol[:,:-3][:,7::8].T))"
   ]
  },
  {
   "cell_type": "code",
   "execution_count": 38,
   "metadata": {
    "pycharm": {
     "name": "#%%\n"
    }
   },
   "outputs": [
    {
     "data": {
      "image/png": "[encoded data removed]",
      "text/plain": [
       "<Figure size 432x288 with 1 Axes>"
      ]
     },
     "metadata": {
      "needs_background": "light"
     },
     "output_type": "display_data"
    }
   ],
   "source": [
    "plt.plot(zetaPlt, -1/2*np.sum(Xsol[:,-3:],axis=1) + np.dot(wlist*klist**2/(2*np.pi**2), Xsol[:,:-3][:,4::8].T + Xsol[:,:-3][:,5::8].T),'--')\n",
    "\n",
    "plt.show()\n"
   ]
  },
  {
   "cell_type": "markdown",
   "metadata": {
    "pycharm": {
     "name": "#%% md\n"
    }
   },
   "source": [
    "# ↓↓↓ Old code ↓↓↓\n",
    "## Gauß-Laguerre Quadrature"
   ]
  },
  {
   "cell_type": "code",
   "execution_count": 39,
   "metadata": {
    "pycharm": {
     "name": "#%%\n"
    }
   },
   "outputs": [],
   "source": [
    "kquad, wquad=np.polynomial.laguerre.laggauss(5)"
   ]
  },
  {
   "cell_type": "code",
   "execution_count": 40,
   "metadata": {
    "pycharm": {
     "name": "#%%\n"
    }
   },
   "outputs": [],
   "source": [
    "#\n",
    "#omegaQ=np.kron(np.diag(1/kquad),commutator2matrix(np.diag([1,-1])))\n",
    "#gammaQ=np.kron(np.diag(kquad**0),anticommutator2matrix(np.array([[1,1],[1,1]])))\n",
    "#\n",
    "#def fodeQ(x,z):\n",
    "#    return np.dot(0.5*omegaQ-0.05*gammaQ/2,x)\n",
    "#\n",
    "#\n",
    "##%%\n",
    "#\n",
    "#y0Q=kquad**2/(1+np.exp(kquad))\n",
    "#y0NQ=np.kron(y0Q,np.array([1,1,0,0]))\n",
    "#\n",
    "##%%\n",
    "#\n",
    "#XsolQ=odeint(fodeQ,y0NQ,t)\n",
    "#\n",
    "##%%\n",
    "#\n",
    "#plt.plot(t,np.trapz(Xsol[:,0::4],klist,axis=1))\n",
    "#plt.plot(t,np.dot(XsolQ[:,::4],wquad*np.exp(kquad)),'--')\n",
    "#\n",
    "##%%\n",
    "#\n",
    "#plt.plot(t,np.trapz(Xsol[:,2::4],klist,axis=1))\n",
    "#plt.plot(t,np.dot(XsolQ[:,2::4],wquad*np.exp(kquad)),'--')\n",
    "#\n",
    "#plt.plot(t,np.trapz(Xsol[:,3::4],klist,axis=1))\n",
    "#plt.plot(t,np.dot(XsolQ[:,3::4],wquad*np.exp(kquad)),'--')\n",
    "#\n",
    "#\n",
    "##%%\n",
    "#\n",
    "#np.polynomial.laguerre.laggauss(2)\n",
    "#\n",
    "##%%\n",
    "#\n"
   ]
  },
  {
   "cell_type": "code",
   "execution_count": null,
   "metadata": {},
   "outputs": [],
   "source": []
  }
 ],
 "metadata": {
  "kernelspec": {
   "display_name": "Python 3 (ipykernel)",
   "language": "python",
   "name": "python3"
  },
  "language_info": {
   "codemirror_mode": {
    "name": "ipython",
    "version": 3
   },
   "file_extension": ".py",
   "mimetype": "text/x-python",
   "name": "python",
   "nbconvert_exporter": "python",
   "pygments_lexer": "ipython3",
   "version": "3.9.7"
  }
 },
 "nbformat": 4,
 "nbformat_minor": 1
}
